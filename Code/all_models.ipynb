{
 "cells": [
  {
   "cell_type": "code",
   "execution_count": 1,
   "id": "9cgAA2v4M36y",
   "metadata": {
    "id": "9cgAA2v4M36y"
   },
   "outputs": [],
   "source": [
    "import pandas as pd                                                                     # data manipulation and analysis\n",
    "import numpy as np                                                                      # working with arrays\n",
    "import seaborn as sns                                                                   # statistical graphs\n",
    "import matplotlib.pyplot as plt                                                         # data visualization and graphical plotting library  \n",
    "%matplotlib inline\n",
    "import warnings                                                                         # suppress warnings\n",
    "warnings.filterwarnings(\"ignore\")\n",
    "\n",
    "from sklearn.ensemble import RandomForestClassifier                                     # combines the output of multiple decision tress to reach a single result  \n",
    "from sklearn.model_selection import train_test_split                                    # split arrays or matrices into random train and test subsets.\n",
    "from sklearn.model_selection import cross_val_score                                     # train and tests a model over multiple folds of the dataset                                      \n",
    "from sklearn.metrics import confusion_matrix                                            # evaluate the performance of a classification model\n",
    "from sklearn.metrics import accuracy_score                                              # set of labels predicted must match the corresponding set of labels in y_true\n",
    "from sklearn.metrics import classification_report                                       # measure the quality of predictions from a class\n",
    "from xgboost import XGBClassifier                                                       # provides parallel tree boosting\n",
    "from sklearn.ensemble import GradientBoostingClassifier                                 # provides gradient boosting\n",
    "from copulas.multivariate import GaussianMultivariate                                   # models the data using the Gaussian multivariate function\n",
    "from copulas.visualization import compare_2d                                            # visualizing real and synthetic data"
   ]
  },
  {
   "cell_type": "code",
   "execution_count": 2,
   "id": "e1d0dff6-ea4a-4252-8b8e-965b9809a2a3",
   "metadata": {
    "id": "e1d0dff6-ea4a-4252-8b8e-965b9809a2a3"
   },
   "outputs": [],
   "source": [
    "breast_cancer_DF = pd.read_excel('../Data_Preprocesssing/Data_Preprocessing.xlsx',sheet_name='wdbc')"
   ]
  },
  {
   "cell_type": "code",
   "execution_count": 3,
   "id": "27980275-b47e-499d-8276-214b1a219e1c",
   "metadata": {
    "colab": {
     "base_uri": "https://localhost:8080/"
    },
    "id": "27980275-b47e-499d-8276-214b1a219e1c",
    "outputId": "c0f510b7-b25e-4288-dabe-1da18611d92f"
   },
   "outputs": [
    {
     "data": {
      "text/plain": [
       "(569, 32)"
      ]
     },
     "execution_count": 3,
     "metadata": {},
     "output_type": "execute_result"
    }
   ],
   "source": [
    "breast_cancer_DF.shape"
   ]
  },
  {
   "cell_type": "code",
   "execution_count": 4,
   "id": "330ab94b-7a9b-4b9a-83f9-2ad21e2caa36",
   "metadata": {
    "colab": {
     "base_uri": "https://localhost:8080/",
     "height": 300
    },
    "id": "330ab94b-7a9b-4b9a-83f9-2ad21e2caa36",
    "outputId": "a1546bec-bfef-4566-d97f-fd78f3078ffd"
   },
   "outputs": [
    {
     "data": {
      "text/html": [
       "<div>\n",
       "<style scoped>\n",
       "    .dataframe tbody tr th:only-of-type {\n",
       "        vertical-align: middle;\n",
       "    }\n",
       "\n",
       "    .dataframe tbody tr th {\n",
       "        vertical-align: top;\n",
       "    }\n",
       "\n",
       "    .dataframe thead th {\n",
       "        text-align: right;\n",
       "    }\n",
       "</style>\n",
       "<table border=\"1\" class=\"dataframe\">\n",
       "  <thead>\n",
       "    <tr style=\"text-align: right;\">\n",
       "      <th></th>\n",
       "      <th>ID</th>\n",
       "      <th>Diagnosis</th>\n",
       "      <th>radius1</th>\n",
       "      <th>texture1</th>\n",
       "      <th>perimeter1</th>\n",
       "      <th>area1</th>\n",
       "      <th>smoothnes1</th>\n",
       "      <th>compactness1</th>\n",
       "      <th>concavity1</th>\n",
       "      <th>concave_points1</th>\n",
       "      <th>...</th>\n",
       "      <th>radius3</th>\n",
       "      <th>texture3</th>\n",
       "      <th>perimeter3</th>\n",
       "      <th>area3</th>\n",
       "      <th>smoothnes3</th>\n",
       "      <th>compactness3</th>\n",
       "      <th>concavity3</th>\n",
       "      <th>concave_points3</th>\n",
       "      <th>symmetry3</th>\n",
       "      <th>fractal_dimension3</th>\n",
       "    </tr>\n",
       "  </thead>\n",
       "  <tbody>\n",
       "    <tr>\n",
       "      <th>0</th>\n",
       "      <td>842302</td>\n",
       "      <td>M</td>\n",
       "      <td>17.99</td>\n",
       "      <td>10.38</td>\n",
       "      <td>122.80</td>\n",
       "      <td>1001.0</td>\n",
       "      <td>0.11840</td>\n",
       "      <td>0.27760</td>\n",
       "      <td>0.3001</td>\n",
       "      <td>0.14710</td>\n",
       "      <td>...</td>\n",
       "      <td>25.38</td>\n",
       "      <td>17.33</td>\n",
       "      <td>184.60</td>\n",
       "      <td>2019.0</td>\n",
       "      <td>0.1622</td>\n",
       "      <td>0.6656</td>\n",
       "      <td>0.7119</td>\n",
       "      <td>0.2654</td>\n",
       "      <td>0.4601</td>\n",
       "      <td>0.11890</td>\n",
       "    </tr>\n",
       "    <tr>\n",
       "      <th>1</th>\n",
       "      <td>842517</td>\n",
       "      <td>M</td>\n",
       "      <td>20.57</td>\n",
       "      <td>17.77</td>\n",
       "      <td>132.90</td>\n",
       "      <td>1326.0</td>\n",
       "      <td>0.08474</td>\n",
       "      <td>0.07864</td>\n",
       "      <td>0.0869</td>\n",
       "      <td>0.07017</td>\n",
       "      <td>...</td>\n",
       "      <td>24.99</td>\n",
       "      <td>23.41</td>\n",
       "      <td>158.80</td>\n",
       "      <td>1956.0</td>\n",
       "      <td>0.1238</td>\n",
       "      <td>0.1866</td>\n",
       "      <td>0.2416</td>\n",
       "      <td>0.1860</td>\n",
       "      <td>0.2750</td>\n",
       "      <td>0.08902</td>\n",
       "    </tr>\n",
       "    <tr>\n",
       "      <th>2</th>\n",
       "      <td>84300903</td>\n",
       "      <td>M</td>\n",
       "      <td>19.69</td>\n",
       "      <td>21.25</td>\n",
       "      <td>130.00</td>\n",
       "      <td>1203.0</td>\n",
       "      <td>0.10960</td>\n",
       "      <td>0.15990</td>\n",
       "      <td>0.1974</td>\n",
       "      <td>0.12790</td>\n",
       "      <td>...</td>\n",
       "      <td>23.57</td>\n",
       "      <td>25.53</td>\n",
       "      <td>152.50</td>\n",
       "      <td>1709.0</td>\n",
       "      <td>0.1444</td>\n",
       "      <td>0.4245</td>\n",
       "      <td>0.4504</td>\n",
       "      <td>0.2430</td>\n",
       "      <td>0.3613</td>\n",
       "      <td>0.08758</td>\n",
       "    </tr>\n",
       "    <tr>\n",
       "      <th>3</th>\n",
       "      <td>84348301</td>\n",
       "      <td>M</td>\n",
       "      <td>11.42</td>\n",
       "      <td>20.38</td>\n",
       "      <td>77.58</td>\n",
       "      <td>386.1</td>\n",
       "      <td>0.14250</td>\n",
       "      <td>0.28390</td>\n",
       "      <td>0.2414</td>\n",
       "      <td>0.10520</td>\n",
       "      <td>...</td>\n",
       "      <td>14.91</td>\n",
       "      <td>26.50</td>\n",
       "      <td>98.87</td>\n",
       "      <td>567.7</td>\n",
       "      <td>0.2098</td>\n",
       "      <td>0.8663</td>\n",
       "      <td>0.6869</td>\n",
       "      <td>0.2575</td>\n",
       "      <td>0.6638</td>\n",
       "      <td>0.17300</td>\n",
       "    </tr>\n",
       "    <tr>\n",
       "      <th>4</th>\n",
       "      <td>84358402</td>\n",
       "      <td>M</td>\n",
       "      <td>20.29</td>\n",
       "      <td>14.34</td>\n",
       "      <td>135.10</td>\n",
       "      <td>1297.0</td>\n",
       "      <td>0.10030</td>\n",
       "      <td>0.13280</td>\n",
       "      <td>0.1980</td>\n",
       "      <td>0.10430</td>\n",
       "      <td>...</td>\n",
       "      <td>22.54</td>\n",
       "      <td>16.67</td>\n",
       "      <td>152.20</td>\n",
       "      <td>1575.0</td>\n",
       "      <td>0.1374</td>\n",
       "      <td>0.2050</td>\n",
       "      <td>0.4000</td>\n",
       "      <td>0.1625</td>\n",
       "      <td>0.2364</td>\n",
       "      <td>0.07678</td>\n",
       "    </tr>\n",
       "  </tbody>\n",
       "</table>\n",
       "<p>5 rows × 32 columns</p>\n",
       "</div>"
      ],
      "text/plain": [
       "         ID Diagnosis  radius1  texture1  perimeter1   area1  smoothnes1  \\\n",
       "0    842302         M    17.99     10.38      122.80  1001.0     0.11840   \n",
       "1    842517         M    20.57     17.77      132.90  1326.0     0.08474   \n",
       "2  84300903         M    19.69     21.25      130.00  1203.0     0.10960   \n",
       "3  84348301         M    11.42     20.38       77.58   386.1     0.14250   \n",
       "4  84358402         M    20.29     14.34      135.10  1297.0     0.10030   \n",
       "\n",
       "   compactness1  concavity1  concave_points1  ...  radius3  texture3  \\\n",
       "0       0.27760      0.3001          0.14710  ...    25.38     17.33   \n",
       "1       0.07864      0.0869          0.07017  ...    24.99     23.41   \n",
       "2       0.15990      0.1974          0.12790  ...    23.57     25.53   \n",
       "3       0.28390      0.2414          0.10520  ...    14.91     26.50   \n",
       "4       0.13280      0.1980          0.10430  ...    22.54     16.67   \n",
       "\n",
       "   perimeter3   area3  smoothnes3  compactness3  concavity3  concave_points3  \\\n",
       "0      184.60  2019.0      0.1622        0.6656      0.7119           0.2654   \n",
       "1      158.80  1956.0      0.1238        0.1866      0.2416           0.1860   \n",
       "2      152.50  1709.0      0.1444        0.4245      0.4504           0.2430   \n",
       "3       98.87   567.7      0.2098        0.8663      0.6869           0.2575   \n",
       "4      152.20  1575.0      0.1374        0.2050      0.4000           0.1625   \n",
       "\n",
       "   symmetry3  fractal_dimension3  \n",
       "0     0.4601             0.11890  \n",
       "1     0.2750             0.08902  \n",
       "2     0.3613             0.08758  \n",
       "3     0.6638             0.17300  \n",
       "4     0.2364             0.07678  \n",
       "\n",
       "[5 rows x 32 columns]"
      ]
     },
     "execution_count": 4,
     "metadata": {},
     "output_type": "execute_result"
    }
   ],
   "source": [
    "breast_cancer_DF.head()"
   ]
  },
  {
   "cell_type": "code",
   "execution_count": 5,
   "id": "4f52eeac-1d94-4384-b574-8c4c0cf4c7c2",
   "metadata": {
    "colab": {
     "base_uri": "https://localhost:8080/",
     "height": 394
    },
    "id": "4f52eeac-1d94-4384-b574-8c4c0cf4c7c2",
    "outputId": "3c59545d-f249-4811-8472-5aa8f50bf94b"
   },
   "outputs": [
    {
     "data": {
      "text/html": [
       "<div>\n",
       "<style scoped>\n",
       "    .dataframe tbody tr th:only-of-type {\n",
       "        vertical-align: middle;\n",
       "    }\n",
       "\n",
       "    .dataframe tbody tr th {\n",
       "        vertical-align: top;\n",
       "    }\n",
       "\n",
       "    .dataframe thead th {\n",
       "        text-align: right;\n",
       "    }\n",
       "</style>\n",
       "<table border=\"1\" class=\"dataframe\">\n",
       "  <thead>\n",
       "    <tr style=\"text-align: right;\">\n",
       "      <th></th>\n",
       "      <th>ID</th>\n",
       "      <th>radius1</th>\n",
       "      <th>texture1</th>\n",
       "      <th>perimeter1</th>\n",
       "      <th>area1</th>\n",
       "      <th>smoothnes1</th>\n",
       "      <th>compactness1</th>\n",
       "      <th>concavity1</th>\n",
       "      <th>concave_points1</th>\n",
       "      <th>symmetry1</th>\n",
       "      <th>...</th>\n",
       "      <th>radius3</th>\n",
       "      <th>texture3</th>\n",
       "      <th>perimeter3</th>\n",
       "      <th>area3</th>\n",
       "      <th>smoothnes3</th>\n",
       "      <th>compactness3</th>\n",
       "      <th>concavity3</th>\n",
       "      <th>concave_points3</th>\n",
       "      <th>symmetry3</th>\n",
       "      <th>fractal_dimension3</th>\n",
       "    </tr>\n",
       "  </thead>\n",
       "  <tbody>\n",
       "    <tr>\n",
       "      <th>count</th>\n",
       "      <td>5.690000e+02</td>\n",
       "      <td>569.000000</td>\n",
       "      <td>569.000000</td>\n",
       "      <td>569.000000</td>\n",
       "      <td>569.000000</td>\n",
       "      <td>569.000000</td>\n",
       "      <td>569.000000</td>\n",
       "      <td>569.000000</td>\n",
       "      <td>569.000000</td>\n",
       "      <td>569.000000</td>\n",
       "      <td>...</td>\n",
       "      <td>569.000000</td>\n",
       "      <td>569.000000</td>\n",
       "      <td>569.000000</td>\n",
       "      <td>569.000000</td>\n",
       "      <td>569.000000</td>\n",
       "      <td>569.000000</td>\n",
       "      <td>569.000000</td>\n",
       "      <td>569.000000</td>\n",
       "      <td>569.000000</td>\n",
       "      <td>569.000000</td>\n",
       "    </tr>\n",
       "    <tr>\n",
       "      <th>mean</th>\n",
       "      <td>3.037183e+07</td>\n",
       "      <td>14.127292</td>\n",
       "      <td>19.289649</td>\n",
       "      <td>91.969033</td>\n",
       "      <td>654.889104</td>\n",
       "      <td>0.096360</td>\n",
       "      <td>0.104341</td>\n",
       "      <td>0.088799</td>\n",
       "      <td>0.048919</td>\n",
       "      <td>0.181162</td>\n",
       "      <td>...</td>\n",
       "      <td>16.269190</td>\n",
       "      <td>25.677223</td>\n",
       "      <td>107.261213</td>\n",
       "      <td>880.583128</td>\n",
       "      <td>0.132369</td>\n",
       "      <td>0.254265</td>\n",
       "      <td>0.272188</td>\n",
       "      <td>0.114606</td>\n",
       "      <td>0.290076</td>\n",
       "      <td>0.083946</td>\n",
       "    </tr>\n",
       "    <tr>\n",
       "      <th>std</th>\n",
       "      <td>1.250206e+08</td>\n",
       "      <td>3.524049</td>\n",
       "      <td>4.301036</td>\n",
       "      <td>24.298981</td>\n",
       "      <td>351.914129</td>\n",
       "      <td>0.014064</td>\n",
       "      <td>0.052813</td>\n",
       "      <td>0.079720</td>\n",
       "      <td>0.038803</td>\n",
       "      <td>0.027414</td>\n",
       "      <td>...</td>\n",
       "      <td>4.833242</td>\n",
       "      <td>6.146258</td>\n",
       "      <td>33.602542</td>\n",
       "      <td>569.356993</td>\n",
       "      <td>0.022832</td>\n",
       "      <td>0.157336</td>\n",
       "      <td>0.208624</td>\n",
       "      <td>0.065732</td>\n",
       "      <td>0.061867</td>\n",
       "      <td>0.018061</td>\n",
       "    </tr>\n",
       "    <tr>\n",
       "      <th>min</th>\n",
       "      <td>8.670000e+03</td>\n",
       "      <td>6.981000</td>\n",
       "      <td>9.710000</td>\n",
       "      <td>43.790000</td>\n",
       "      <td>143.500000</td>\n",
       "      <td>0.052630</td>\n",
       "      <td>0.019380</td>\n",
       "      <td>0.000000</td>\n",
       "      <td>0.000000</td>\n",
       "      <td>0.106000</td>\n",
       "      <td>...</td>\n",
       "      <td>7.930000</td>\n",
       "      <td>12.020000</td>\n",
       "      <td>50.410000</td>\n",
       "      <td>185.200000</td>\n",
       "      <td>0.071170</td>\n",
       "      <td>0.027290</td>\n",
       "      <td>0.000000</td>\n",
       "      <td>0.000000</td>\n",
       "      <td>0.156500</td>\n",
       "      <td>0.055040</td>\n",
       "    </tr>\n",
       "    <tr>\n",
       "      <th>25%</th>\n",
       "      <td>8.692180e+05</td>\n",
       "      <td>11.700000</td>\n",
       "      <td>16.170000</td>\n",
       "      <td>75.170000</td>\n",
       "      <td>420.300000</td>\n",
       "      <td>0.086370</td>\n",
       "      <td>0.064920</td>\n",
       "      <td>0.029560</td>\n",
       "      <td>0.020310</td>\n",
       "      <td>0.161900</td>\n",
       "      <td>...</td>\n",
       "      <td>13.010000</td>\n",
       "      <td>21.080000</td>\n",
       "      <td>84.110000</td>\n",
       "      <td>515.300000</td>\n",
       "      <td>0.116600</td>\n",
       "      <td>0.147200</td>\n",
       "      <td>0.114500</td>\n",
       "      <td>0.064930</td>\n",
       "      <td>0.250400</td>\n",
       "      <td>0.071460</td>\n",
       "    </tr>\n",
       "    <tr>\n",
       "      <th>50%</th>\n",
       "      <td>9.060240e+05</td>\n",
       "      <td>13.370000</td>\n",
       "      <td>18.840000</td>\n",
       "      <td>86.240000</td>\n",
       "      <td>551.100000</td>\n",
       "      <td>0.095870</td>\n",
       "      <td>0.092630</td>\n",
       "      <td>0.061540</td>\n",
       "      <td>0.033500</td>\n",
       "      <td>0.179200</td>\n",
       "      <td>...</td>\n",
       "      <td>14.970000</td>\n",
       "      <td>25.410000</td>\n",
       "      <td>97.660000</td>\n",
       "      <td>686.500000</td>\n",
       "      <td>0.131300</td>\n",
       "      <td>0.211900</td>\n",
       "      <td>0.226700</td>\n",
       "      <td>0.099930</td>\n",
       "      <td>0.282200</td>\n",
       "      <td>0.080040</td>\n",
       "    </tr>\n",
       "    <tr>\n",
       "      <th>75%</th>\n",
       "      <td>8.813129e+06</td>\n",
       "      <td>15.780000</td>\n",
       "      <td>21.800000</td>\n",
       "      <td>104.100000</td>\n",
       "      <td>782.700000</td>\n",
       "      <td>0.105300</td>\n",
       "      <td>0.130400</td>\n",
       "      <td>0.130700</td>\n",
       "      <td>0.074000</td>\n",
       "      <td>0.195700</td>\n",
       "      <td>...</td>\n",
       "      <td>18.790000</td>\n",
       "      <td>29.720000</td>\n",
       "      <td>125.400000</td>\n",
       "      <td>1084.000000</td>\n",
       "      <td>0.146000</td>\n",
       "      <td>0.339100</td>\n",
       "      <td>0.382900</td>\n",
       "      <td>0.161400</td>\n",
       "      <td>0.317900</td>\n",
       "      <td>0.092080</td>\n",
       "    </tr>\n",
       "    <tr>\n",
       "      <th>max</th>\n",
       "      <td>9.113205e+08</td>\n",
       "      <td>28.110000</td>\n",
       "      <td>39.280000</td>\n",
       "      <td>188.500000</td>\n",
       "      <td>2501.000000</td>\n",
       "      <td>0.163400</td>\n",
       "      <td>0.345400</td>\n",
       "      <td>0.426800</td>\n",
       "      <td>0.201200</td>\n",
       "      <td>0.304000</td>\n",
       "      <td>...</td>\n",
       "      <td>36.040000</td>\n",
       "      <td>49.540000</td>\n",
       "      <td>251.200000</td>\n",
       "      <td>4254.000000</td>\n",
       "      <td>0.222600</td>\n",
       "      <td>1.058000</td>\n",
       "      <td>1.252000</td>\n",
       "      <td>0.291000</td>\n",
       "      <td>0.663800</td>\n",
       "      <td>0.207500</td>\n",
       "    </tr>\n",
       "  </tbody>\n",
       "</table>\n",
       "<p>8 rows × 31 columns</p>\n",
       "</div>"
      ],
      "text/plain": [
       "                 ID     radius1    texture1  perimeter1        area1  \\\n",
       "count  5.690000e+02  569.000000  569.000000  569.000000   569.000000   \n",
       "mean   3.037183e+07   14.127292   19.289649   91.969033   654.889104   \n",
       "std    1.250206e+08    3.524049    4.301036   24.298981   351.914129   \n",
       "min    8.670000e+03    6.981000    9.710000   43.790000   143.500000   \n",
       "25%    8.692180e+05   11.700000   16.170000   75.170000   420.300000   \n",
       "50%    9.060240e+05   13.370000   18.840000   86.240000   551.100000   \n",
       "75%    8.813129e+06   15.780000   21.800000  104.100000   782.700000   \n",
       "max    9.113205e+08   28.110000   39.280000  188.500000  2501.000000   \n",
       "\n",
       "       smoothnes1  compactness1  concavity1  concave_points1   symmetry1  ...  \\\n",
       "count  569.000000    569.000000  569.000000       569.000000  569.000000  ...   \n",
       "mean     0.096360      0.104341    0.088799         0.048919    0.181162  ...   \n",
       "std      0.014064      0.052813    0.079720         0.038803    0.027414  ...   \n",
       "min      0.052630      0.019380    0.000000         0.000000    0.106000  ...   \n",
       "25%      0.086370      0.064920    0.029560         0.020310    0.161900  ...   \n",
       "50%      0.095870      0.092630    0.061540         0.033500    0.179200  ...   \n",
       "75%      0.105300      0.130400    0.130700         0.074000    0.195700  ...   \n",
       "max      0.163400      0.345400    0.426800         0.201200    0.304000  ...   \n",
       "\n",
       "          radius3    texture3  perimeter3        area3  smoothnes3  \\\n",
       "count  569.000000  569.000000  569.000000   569.000000  569.000000   \n",
       "mean    16.269190   25.677223  107.261213   880.583128    0.132369   \n",
       "std      4.833242    6.146258   33.602542   569.356993    0.022832   \n",
       "min      7.930000   12.020000   50.410000   185.200000    0.071170   \n",
       "25%     13.010000   21.080000   84.110000   515.300000    0.116600   \n",
       "50%     14.970000   25.410000   97.660000   686.500000    0.131300   \n",
       "75%     18.790000   29.720000  125.400000  1084.000000    0.146000   \n",
       "max     36.040000   49.540000  251.200000  4254.000000    0.222600   \n",
       "\n",
       "       compactness3  concavity3  concave_points3   symmetry3  \\\n",
       "count    569.000000  569.000000       569.000000  569.000000   \n",
       "mean       0.254265    0.272188         0.114606    0.290076   \n",
       "std        0.157336    0.208624         0.065732    0.061867   \n",
       "min        0.027290    0.000000         0.000000    0.156500   \n",
       "25%        0.147200    0.114500         0.064930    0.250400   \n",
       "50%        0.211900    0.226700         0.099930    0.282200   \n",
       "75%        0.339100    0.382900         0.161400    0.317900   \n",
       "max        1.058000    1.252000         0.291000    0.663800   \n",
       "\n",
       "       fractal_dimension3  \n",
       "count          569.000000  \n",
       "mean             0.083946  \n",
       "std              0.018061  \n",
       "min              0.055040  \n",
       "25%              0.071460  \n",
       "50%              0.080040  \n",
       "75%              0.092080  \n",
       "max              0.207500  \n",
       "\n",
       "[8 rows x 31 columns]"
      ]
     },
     "execution_count": 5,
     "metadata": {},
     "output_type": "execute_result"
    }
   ],
   "source": [
    "breast_cancer_DF.describe()"
   ]
  },
  {
   "cell_type": "code",
   "execution_count": 6,
   "id": "1f7c313e-2276-4429-87ac-85d540637b53",
   "metadata": {
    "colab": {
     "base_uri": "https://localhost:8080/",
     "height": 488
    },
    "id": "1f7c313e-2276-4429-87ac-85d540637b53",
    "outputId": "5ff39f94-c930-42c7-8e46-e5879c1c9544"
   },
   "outputs": [
    {
     "data": {
      "text/html": [
       "<div>\n",
       "<style scoped>\n",
       "    .dataframe tbody tr th:only-of-type {\n",
       "        vertical-align: middle;\n",
       "    }\n",
       "\n",
       "    .dataframe tbody tr th {\n",
       "        vertical-align: top;\n",
       "    }\n",
       "\n",
       "    .dataframe thead th {\n",
       "        text-align: right;\n",
       "    }\n",
       "</style>\n",
       "<table border=\"1\" class=\"dataframe\">\n",
       "  <thead>\n",
       "    <tr style=\"text-align: right;\">\n",
       "      <th></th>\n",
       "      <th>ID</th>\n",
       "      <th>Diagnosis</th>\n",
       "      <th>radius1</th>\n",
       "      <th>texture1</th>\n",
       "      <th>perimeter1</th>\n",
       "      <th>area1</th>\n",
       "      <th>smoothnes1</th>\n",
       "      <th>compactness1</th>\n",
       "      <th>concavity1</th>\n",
       "      <th>concave_points1</th>\n",
       "      <th>...</th>\n",
       "      <th>radius3</th>\n",
       "      <th>texture3</th>\n",
       "      <th>perimeter3</th>\n",
       "      <th>area3</th>\n",
       "      <th>smoothnes3</th>\n",
       "      <th>compactness3</th>\n",
       "      <th>concavity3</th>\n",
       "      <th>concave_points3</th>\n",
       "      <th>symmetry3</th>\n",
       "      <th>fractal_dimension3</th>\n",
       "    </tr>\n",
       "  </thead>\n",
       "  <tbody>\n",
       "    <tr>\n",
       "      <th>0</th>\n",
       "      <td>False</td>\n",
       "      <td>False</td>\n",
       "      <td>False</td>\n",
       "      <td>False</td>\n",
       "      <td>False</td>\n",
       "      <td>False</td>\n",
       "      <td>False</td>\n",
       "      <td>False</td>\n",
       "      <td>False</td>\n",
       "      <td>False</td>\n",
       "      <td>...</td>\n",
       "      <td>False</td>\n",
       "      <td>False</td>\n",
       "      <td>False</td>\n",
       "      <td>False</td>\n",
       "      <td>False</td>\n",
       "      <td>False</td>\n",
       "      <td>False</td>\n",
       "      <td>False</td>\n",
       "      <td>False</td>\n",
       "      <td>False</td>\n",
       "    </tr>\n",
       "    <tr>\n",
       "      <th>1</th>\n",
       "      <td>False</td>\n",
       "      <td>False</td>\n",
       "      <td>False</td>\n",
       "      <td>False</td>\n",
       "      <td>False</td>\n",
       "      <td>False</td>\n",
       "      <td>False</td>\n",
       "      <td>False</td>\n",
       "      <td>False</td>\n",
       "      <td>False</td>\n",
       "      <td>...</td>\n",
       "      <td>False</td>\n",
       "      <td>False</td>\n",
       "      <td>False</td>\n",
       "      <td>False</td>\n",
       "      <td>False</td>\n",
       "      <td>False</td>\n",
       "      <td>False</td>\n",
       "      <td>False</td>\n",
       "      <td>False</td>\n",
       "      <td>False</td>\n",
       "    </tr>\n",
       "    <tr>\n",
       "      <th>2</th>\n",
       "      <td>False</td>\n",
       "      <td>False</td>\n",
       "      <td>False</td>\n",
       "      <td>False</td>\n",
       "      <td>False</td>\n",
       "      <td>False</td>\n",
       "      <td>False</td>\n",
       "      <td>False</td>\n",
       "      <td>False</td>\n",
       "      <td>False</td>\n",
       "      <td>...</td>\n",
       "      <td>False</td>\n",
       "      <td>False</td>\n",
       "      <td>False</td>\n",
       "      <td>False</td>\n",
       "      <td>False</td>\n",
       "      <td>False</td>\n",
       "      <td>False</td>\n",
       "      <td>False</td>\n",
       "      <td>False</td>\n",
       "      <td>False</td>\n",
       "    </tr>\n",
       "    <tr>\n",
       "      <th>3</th>\n",
       "      <td>False</td>\n",
       "      <td>False</td>\n",
       "      <td>False</td>\n",
       "      <td>False</td>\n",
       "      <td>False</td>\n",
       "      <td>False</td>\n",
       "      <td>False</td>\n",
       "      <td>False</td>\n",
       "      <td>False</td>\n",
       "      <td>False</td>\n",
       "      <td>...</td>\n",
       "      <td>False</td>\n",
       "      <td>False</td>\n",
       "      <td>False</td>\n",
       "      <td>False</td>\n",
       "      <td>False</td>\n",
       "      <td>False</td>\n",
       "      <td>False</td>\n",
       "      <td>False</td>\n",
       "      <td>False</td>\n",
       "      <td>False</td>\n",
       "    </tr>\n",
       "    <tr>\n",
       "      <th>4</th>\n",
       "      <td>False</td>\n",
       "      <td>False</td>\n",
       "      <td>False</td>\n",
       "      <td>False</td>\n",
       "      <td>False</td>\n",
       "      <td>False</td>\n",
       "      <td>False</td>\n",
       "      <td>False</td>\n",
       "      <td>False</td>\n",
       "      <td>False</td>\n",
       "      <td>...</td>\n",
       "      <td>False</td>\n",
       "      <td>False</td>\n",
       "      <td>False</td>\n",
       "      <td>False</td>\n",
       "      <td>False</td>\n",
       "      <td>False</td>\n",
       "      <td>False</td>\n",
       "      <td>False</td>\n",
       "      <td>False</td>\n",
       "      <td>False</td>\n",
       "    </tr>\n",
       "    <tr>\n",
       "      <th>...</th>\n",
       "      <td>...</td>\n",
       "      <td>...</td>\n",
       "      <td>...</td>\n",
       "      <td>...</td>\n",
       "      <td>...</td>\n",
       "      <td>...</td>\n",
       "      <td>...</td>\n",
       "      <td>...</td>\n",
       "      <td>...</td>\n",
       "      <td>...</td>\n",
       "      <td>...</td>\n",
       "      <td>...</td>\n",
       "      <td>...</td>\n",
       "      <td>...</td>\n",
       "      <td>...</td>\n",
       "      <td>...</td>\n",
       "      <td>...</td>\n",
       "      <td>...</td>\n",
       "      <td>...</td>\n",
       "      <td>...</td>\n",
       "      <td>...</td>\n",
       "    </tr>\n",
       "    <tr>\n",
       "      <th>564</th>\n",
       "      <td>False</td>\n",
       "      <td>False</td>\n",
       "      <td>False</td>\n",
       "      <td>False</td>\n",
       "      <td>False</td>\n",
       "      <td>False</td>\n",
       "      <td>False</td>\n",
       "      <td>False</td>\n",
       "      <td>False</td>\n",
       "      <td>False</td>\n",
       "      <td>...</td>\n",
       "      <td>False</td>\n",
       "      <td>False</td>\n",
       "      <td>False</td>\n",
       "      <td>False</td>\n",
       "      <td>False</td>\n",
       "      <td>False</td>\n",
       "      <td>False</td>\n",
       "      <td>False</td>\n",
       "      <td>False</td>\n",
       "      <td>False</td>\n",
       "    </tr>\n",
       "    <tr>\n",
       "      <th>565</th>\n",
       "      <td>False</td>\n",
       "      <td>False</td>\n",
       "      <td>False</td>\n",
       "      <td>False</td>\n",
       "      <td>False</td>\n",
       "      <td>False</td>\n",
       "      <td>False</td>\n",
       "      <td>False</td>\n",
       "      <td>False</td>\n",
       "      <td>False</td>\n",
       "      <td>...</td>\n",
       "      <td>False</td>\n",
       "      <td>False</td>\n",
       "      <td>False</td>\n",
       "      <td>False</td>\n",
       "      <td>False</td>\n",
       "      <td>False</td>\n",
       "      <td>False</td>\n",
       "      <td>False</td>\n",
       "      <td>False</td>\n",
       "      <td>False</td>\n",
       "    </tr>\n",
       "    <tr>\n",
       "      <th>566</th>\n",
       "      <td>False</td>\n",
       "      <td>False</td>\n",
       "      <td>False</td>\n",
       "      <td>False</td>\n",
       "      <td>False</td>\n",
       "      <td>False</td>\n",
       "      <td>False</td>\n",
       "      <td>False</td>\n",
       "      <td>False</td>\n",
       "      <td>False</td>\n",
       "      <td>...</td>\n",
       "      <td>False</td>\n",
       "      <td>False</td>\n",
       "      <td>False</td>\n",
       "      <td>False</td>\n",
       "      <td>False</td>\n",
       "      <td>False</td>\n",
       "      <td>False</td>\n",
       "      <td>False</td>\n",
       "      <td>False</td>\n",
       "      <td>False</td>\n",
       "    </tr>\n",
       "    <tr>\n",
       "      <th>567</th>\n",
       "      <td>False</td>\n",
       "      <td>False</td>\n",
       "      <td>False</td>\n",
       "      <td>False</td>\n",
       "      <td>False</td>\n",
       "      <td>False</td>\n",
       "      <td>False</td>\n",
       "      <td>False</td>\n",
       "      <td>False</td>\n",
       "      <td>False</td>\n",
       "      <td>...</td>\n",
       "      <td>False</td>\n",
       "      <td>False</td>\n",
       "      <td>False</td>\n",
       "      <td>False</td>\n",
       "      <td>False</td>\n",
       "      <td>False</td>\n",
       "      <td>False</td>\n",
       "      <td>False</td>\n",
       "      <td>False</td>\n",
       "      <td>False</td>\n",
       "    </tr>\n",
       "    <tr>\n",
       "      <th>568</th>\n",
       "      <td>False</td>\n",
       "      <td>False</td>\n",
       "      <td>False</td>\n",
       "      <td>False</td>\n",
       "      <td>False</td>\n",
       "      <td>False</td>\n",
       "      <td>False</td>\n",
       "      <td>False</td>\n",
       "      <td>False</td>\n",
       "      <td>False</td>\n",
       "      <td>...</td>\n",
       "      <td>False</td>\n",
       "      <td>False</td>\n",
       "      <td>False</td>\n",
       "      <td>False</td>\n",
       "      <td>False</td>\n",
       "      <td>False</td>\n",
       "      <td>False</td>\n",
       "      <td>False</td>\n",
       "      <td>False</td>\n",
       "      <td>False</td>\n",
       "    </tr>\n",
       "  </tbody>\n",
       "</table>\n",
       "<p>569 rows × 32 columns</p>\n",
       "</div>"
      ],
      "text/plain": [
       "        ID  Diagnosis  radius1  texture1  perimeter1  area1  smoothnes1  \\\n",
       "0    False      False    False     False       False  False       False   \n",
       "1    False      False    False     False       False  False       False   \n",
       "2    False      False    False     False       False  False       False   \n",
       "3    False      False    False     False       False  False       False   \n",
       "4    False      False    False     False       False  False       False   \n",
       "..     ...        ...      ...       ...         ...    ...         ...   \n",
       "564  False      False    False     False       False  False       False   \n",
       "565  False      False    False     False       False  False       False   \n",
       "566  False      False    False     False       False  False       False   \n",
       "567  False      False    False     False       False  False       False   \n",
       "568  False      False    False     False       False  False       False   \n",
       "\n",
       "     compactness1  concavity1  concave_points1  ...  radius3  texture3  \\\n",
       "0           False       False            False  ...    False     False   \n",
       "1           False       False            False  ...    False     False   \n",
       "2           False       False            False  ...    False     False   \n",
       "3           False       False            False  ...    False     False   \n",
       "4           False       False            False  ...    False     False   \n",
       "..            ...         ...              ...  ...      ...       ...   \n",
       "564         False       False            False  ...    False     False   \n",
       "565         False       False            False  ...    False     False   \n",
       "566         False       False            False  ...    False     False   \n",
       "567         False       False            False  ...    False     False   \n",
       "568         False       False            False  ...    False     False   \n",
       "\n",
       "     perimeter3  area3  smoothnes3  compactness3  concavity3  concave_points3  \\\n",
       "0         False  False       False         False       False            False   \n",
       "1         False  False       False         False       False            False   \n",
       "2         False  False       False         False       False            False   \n",
       "3         False  False       False         False       False            False   \n",
       "4         False  False       False         False       False            False   \n",
       "..          ...    ...         ...           ...         ...              ...   \n",
       "564       False  False       False         False       False            False   \n",
       "565       False  False       False         False       False            False   \n",
       "566       False  False       False         False       False            False   \n",
       "567       False  False       False         False       False            False   \n",
       "568       False  False       False         False       False            False   \n",
       "\n",
       "     symmetry3  fractal_dimension3  \n",
       "0        False               False  \n",
       "1        False               False  \n",
       "2        False               False  \n",
       "3        False               False  \n",
       "4        False               False  \n",
       "..         ...                 ...  \n",
       "564      False               False  \n",
       "565      False               False  \n",
       "566      False               False  \n",
       "567      False               False  \n",
       "568      False               False  \n",
       "\n",
       "[569 rows x 32 columns]"
      ]
     },
     "execution_count": 6,
     "metadata": {},
     "output_type": "execute_result"
    }
   ],
   "source": [
    "breast_cancer_DF.isnull()"
   ]
  },
  {
   "cell_type": "code",
   "execution_count": 7,
   "id": "73cbe0e3-def7-4fae-a52e-5a877c444516",
   "metadata": {
    "colab": {
     "base_uri": "https://localhost:8080/"
    },
    "id": "73cbe0e3-def7-4fae-a52e-5a877c444516",
    "outputId": "fff85f6d-c47c-45cd-f66e-412d74d168d6"
   },
   "outputs": [
    {
     "data": {
      "text/plain": [
       "ID                    0\n",
       "Diagnosis             0\n",
       "radius1               0\n",
       "texture1              0\n",
       "perimeter1            0\n",
       "area1                 0\n",
       "smoothnes1            0\n",
       "compactness1          0\n",
       "concavity1            0\n",
       "concave_points1       0\n",
       "symmetry1             0\n",
       "fractal_dimension1    0\n",
       "radius2               0\n",
       "texture2              0\n",
       "perimeter2            0\n",
       "area2                 0\n",
       "smoothnes2            0\n",
       "compactness2          0\n",
       "concavity2            0\n",
       "concave_points2       0\n",
       "symmetry2             0\n",
       "fractal_dimension2    0\n",
       "radius3               0\n",
       "texture3              0\n",
       "perimeter3            0\n",
       "area3                 0\n",
       "smoothnes3            0\n",
       "compactness3          0\n",
       "concavity3            0\n",
       "concave_points3       0\n",
       "symmetry3             0\n",
       "fractal_dimension3    0\n",
       "dtype: int64"
      ]
     },
     "execution_count": 7,
     "metadata": {},
     "output_type": "execute_result"
    }
   ],
   "source": [
    "breast_cancer_DF.isnull().sum()"
   ]
  },
  {
   "cell_type": "code",
   "execution_count": 8,
   "id": "a50a6694-3ef0-4169-981e-4a9d9d87b3fd",
   "metadata": {
    "colab": {
     "base_uri": "https://localhost:8080/"
    },
    "id": "a50a6694-3ef0-4169-981e-4a9d9d87b3fd",
    "outputId": "c2da545e-5a2f-4e0a-e7c8-f5176ff57214"
   },
   "outputs": [
    {
     "data": {
      "text/plain": [
       "B    357\n",
       "M    212\n",
       "Name: Diagnosis, dtype: int64"
      ]
     },
     "execution_count": 8,
     "metadata": {},
     "output_type": "execute_result"
    }
   ],
   "source": [
    "breast_cancer_DF['Diagnosis'].value_counts()"
   ]
  },
  {
   "cell_type": "code",
   "execution_count": 9,
   "id": "f8b4c072-7832-4386-836d-33c0f5a2c3ee",
   "metadata": {
    "colab": {
     "base_uri": "https://localhost:8080/"
    },
    "id": "f8b4c072-7832-4386-836d-33c0f5a2c3ee",
    "outputId": "7fc892d3-22b9-46d6-e482-daf4344069cd"
   },
   "outputs": [
    {
     "data": {
      "text/plain": [
       "B    357\n",
       "M    212\n",
       "Name: Diagnosis, dtype: int64"
      ]
     },
     "execution_count": 9,
     "metadata": {},
     "output_type": "execute_result"
    }
   ],
   "source": [
    "# checking and comparing the different diagnosis\n",
    "breast_cancer_DF['Diagnosis'].value_counts()"
   ]
  },
  {
   "cell_type": "code",
   "execution_count": 10,
   "id": "fd367574-bc01-454f-a6e0-57e1a1fa6590",
   "metadata": {
    "colab": {
     "base_uri": "https://localhost:8080/",
     "height": 295
    },
    "id": "fd367574-bc01-454f-a6e0-57e1a1fa6590",
    "outputId": "b213bc2c-9f46-416f-c415-df3920491629"
   },
   "outputs": [
    {
     "data": {
      "image/png": "[encoded data removed]",
      "text/plain": [
       "<Figure size 432x288 with 1 Axes>"
      ]
     },
     "metadata": {
      "needs_background": "light"
     },
     "output_type": "display_data"
    }
   ],
   "source": [
    "# graph using seaborn\n",
    "sns.countplot(x=breast_cancer_DF[\"Diagnosis\"])\n",
    "plt.title(\"Comparison between Malignant and Benign Diagnosis\")\n",
    "plt.xlabel(\"Diagnosis\")\n",
    "plt.ylabel(\"Count\")\n",
    "plt.show()"
   ]
  },
  {
   "cell_type": "code",
   "execution_count": 11,
   "id": "edeeb745-1f29-4784-ac9e-69dfa69523f5",
   "metadata": {
    "collapsed": true,
    "id": "edeeb745-1f29-4784-ac9e-69dfa69523f5",
    "jupyter": {
     "outputs_hidden": true
    },
    "tags": []
   },
   "outputs": [],
   "source": [
    "# We created a dataset that takes in all other variables except the the ID number and Diagnosis\n",
    "X = breast_cancer_DF.drop(['ID','Diagnosis'],axis=1) # for the x value, we will omit the ID and Diagnosis\n",
    "code = {'B': 0, 'M': 1}\n",
    "Y = breast_cancer_DF['Diagnosis'].replace(code).values # for the y value, we only want the Diagnosis"
   ]
  },
  {
   "cell_type": "code",
   "execution_count": 12,
   "id": "71ebb817-fb51-4327-b3d9-12b834520715",
   "metadata": {
    "id": "71ebb817-fb51-4327-b3d9-12b834520715"
   },
   "outputs": [],
   "source": [
    "# create the model to train the data \n",
    "# for the random state, it could be any number, playing around with this can change the outcome\n",
    "X_train, X_test, Y_train, y_test = train_test_split(X,Y,random_state=99)"
   ]
  },
  {
   "cell_type": "code",
   "execution_count": 13,
   "id": "170c10e9-a38d-491b-a548-9cea63c3d42c",
   "metadata": {
    "id": "170c10e9-a38d-491b-a548-9cea63c3d42c"
   },
   "outputs": [],
   "source": [
    "# import the random forest classifier\n",
    "# gini = index ranges from 0-1. computes the degree of probability of a specific varaible that is wrongly being classified when chosen randomly\n",
    "clf = RandomForestClassifier(criterion=\"gini\",max_depth=8,min_samples_split=10,random_state=6)"
   ]
  },
  {
   "cell_type": "code",
   "execution_count": 14,
   "id": "603f2d80-1520-4516-8955-fcfa16b66dc1",
   "metadata": {
    "colab": {
     "base_uri": "https://localhost:8080/"
    },
    "id": "603f2d80-1520-4516-8955-fcfa16b66dc1",
    "outputId": "32a9b45e-1544-4720-b943-7b1528363364"
   },
   "outputs": [
    {
     "data": {
      "text/html": [
       "<style>#sk-container-id-1 {color: black;background-color: white;}#sk-container-id-1 pre{padding: 0;}#sk-container-id-1 div.sk-toggleable {background-color: white;}#sk-container-id-1 label.sk-toggleable__label {cursor: pointer;display: block;width: 100%;margin-bottom: 0;padding: 0.3em;box-sizing: border-box;text-align: center;}#sk-container-id-1 label.sk-toggleable__label-arrow:before {content: \"▸\";float: left;margin-right: 0.25em;color: #696969;}#sk-container-id-1 label.sk-toggleable__label-arrow:hover:before {color: black;}#sk-container-id-1 div.sk-estimator:hover label.sk-toggleable__label-arrow:before {color: black;}#sk-container-id-1 div.sk-toggleable__content {max-height: 0;max-width: 0;overflow: hidden;text-align: left;background-color: #f0f8ff;}#sk-container-id-1 div.sk-toggleable__content pre {margin: 0.2em;color: black;border-radius: 0.25em;background-color: #f0f8ff;}#sk-container-id-1 input.sk-toggleable__control:checked~div.sk-toggleable__content {max-height: 200px;max-width: 100%;overflow: auto;}#sk-container-id-1 input.sk-toggleable__control:checked~label.sk-toggleable__label-arrow:before {content: \"▾\";}#sk-container-id-1 div.sk-estimator input.sk-toggleable__control:checked~label.sk-toggleable__label {background-color: #d4ebff;}#sk-container-id-1 div.sk-label input.sk-toggleable__control:checked~label.sk-toggleable__label {background-color: #d4ebff;}#sk-container-id-1 input.sk-hidden--visually {border: 0;clip: rect(1px 1px 1px 1px);clip: rect(1px, 1px, 1px, 1px);height: 1px;margin: -1px;overflow: hidden;padding: 0;position: absolute;width: 1px;}#sk-container-id-1 div.sk-estimator {font-family: monospace;background-color: #f0f8ff;border: 1px dotted black;border-radius: 0.25em;box-sizing: border-box;margin-bottom: 0.5em;}#sk-container-id-1 div.sk-estimator:hover {background-color: #d4ebff;}#sk-container-id-1 div.sk-parallel-item::after {content: \"\";width: 100%;border-bottom: 1px solid gray;flex-grow: 1;}#sk-container-id-1 div.sk-label:hover label.sk-toggleable__label {background-color: #d4ebff;}#sk-container-id-1 div.sk-serial::before {content: \"\";position: absolute;border-left: 1px solid gray;box-sizing: border-box;top: 0;bottom: 0;left: 50%;z-index: 0;}#sk-container-id-1 div.sk-serial {display: flex;flex-direction: column;align-items: center;background-color: white;padding-right: 0.2em;padding-left: 0.2em;position: relative;}#sk-container-id-1 div.sk-item {position: relative;z-index: 1;}#sk-container-id-1 div.sk-parallel {display: flex;align-items: stretch;justify-content: center;background-color: white;position: relative;}#sk-container-id-1 div.sk-item::before, #sk-container-id-1 div.sk-parallel-item::before {content: \"\";position: absolute;border-left: 1px solid gray;box-sizing: border-box;top: 0;bottom: 0;left: 50%;z-index: -1;}#sk-container-id-1 div.sk-parallel-item {display: flex;flex-direction: column;z-index: 1;position: relative;background-color: white;}#sk-container-id-1 div.sk-parallel-item:first-child::after {align-self: flex-end;width: 50%;}#sk-container-id-1 div.sk-parallel-item:last-child::after {align-self: flex-start;width: 50%;}#sk-container-id-1 div.sk-parallel-item:only-child::after {width: 0;}#sk-container-id-1 div.sk-dashed-wrapped {border: 1px dashed gray;margin: 0 0.4em 0.5em 0.4em;box-sizing: border-box;padding-bottom: 0.4em;background-color: white;}#sk-container-id-1 div.sk-label label {font-family: monospace;font-weight: bold;display: inline-block;line-height: 1.2em;}#sk-container-id-1 div.sk-label-container {text-align: center;}#sk-container-id-1 div.sk-container {/* jupyter's `normalize.less` sets `[hidden] { display: none; }` but bootstrap.min.css set `[hidden] { display: none !important; }` so we also need the `!important` here to be able to override the default hidden behavior on the sphinx rendered scikit-learn.org. See: https://github.com/scikit-learn/scikit-learn/issues/21755 */display: inline-block !important;position: relative;}#sk-container-id-1 div.sk-text-repr-fallback {display: none;}</style><div id=\"sk-container-id-1\" class=\"sk-top-container\"><div class=\"sk-text-repr-fallback\"><pre>RandomForestClassifier(max_depth=8, min_samples_split=10, random_state=6)</pre><b>In a Jupyter environment, please rerun this cell to show the HTML representation or trust the notebook. <br />On GitHub, the HTML representation is unable to render, please try loading this page with nbviewer.org.</b></div><div class=\"sk-container\" hidden><div class=\"sk-item\"><div class=\"sk-estimator sk-toggleable\"><input class=\"sk-toggleable__control sk-hidden--visually\" id=\"sk-estimator-id-1\" type=\"checkbox\" checked><label for=\"sk-estimator-id-1\" class=\"sk-toggleable__label sk-toggleable__label-arrow\">RandomForestClassifier</label><div class=\"sk-toggleable__content\"><pre>RandomForestClassifier(max_depth=8, min_samples_split=10, random_state=6)</pre></div></div></div></div></div>"
      ],
      "text/plain": [
       "RandomForestClassifier(max_depth=8, min_samples_split=10, random_state=6)"
      ]
     },
     "execution_count": 14,
     "metadata": {},
     "output_type": "execute_result"
    }
   ],
   "source": [
    "# fit the data of x and y train\n",
    "clf.fit(X_train,Y_train)"
   ]
  },
  {
   "cell_type": "code",
   "execution_count": 15,
   "id": "bd98e836-7466-41a2-bc75-2804b6f54cd6",
   "metadata": {
    "colab": {
     "base_uri": "https://localhost:8080/"
    },
    "id": "bd98e836-7466-41a2-bc75-2804b6f54cd6",
    "outputId": "a427a5c7-48aa-4ae5-ce17-e13f492271ce"
   },
   "outputs": [
    {
     "data": {
      "text/plain": [
       "array([0.04756914, 0.01038781, 0.05063505, 0.06861194, 0.0033205 ,\n",
       "       0.01340563, 0.06352814, 0.08490136, 0.0022988 , 0.00248689,\n",
       "       0.01418071, 0.00133052, 0.02069661, 0.03254582, 0.00270483,\n",
       "       0.004248  , 0.00246741, 0.00719317, 0.00337709, 0.00466282,\n",
       "       0.09890596, 0.0134518 , 0.1284849 , 0.08529694, 0.0099211 ,\n",
       "       0.01406674, 0.02702326, 0.16958017, 0.00923672, 0.00348019])"
      ]
     },
     "execution_count": 15,
     "metadata": {},
     "output_type": "execute_result"
    }
   ],
   "source": [
    "# computed as the mean and standard deviation of accumulation of the impurity decrease within each tree\n",
    "clf.feature_importances_"
   ]
  },
  {
   "cell_type": "code",
   "execution_count": 16,
   "id": "f96819ae-8f5c-4058-9b40-a5fcb15a5a50",
   "metadata": {
    "colab": {
     "base_uri": "https://localhost:8080/"
    },
    "id": "f96819ae-8f5c-4058-9b40-a5fcb15a5a50",
    "outputId": "8be75a51-b071-412d-ac70-c47155c2d1da"
   },
   "outputs": [
    {
     "data": {
      "text/plain": [
       "Index(['ID', 'Diagnosis', 'radius1', 'texture1', 'perimeter1', 'area1',\n",
       "       'smoothnes1', 'compactness1', 'concavity1', 'concave_points1',\n",
       "       'symmetry1', 'fractal_dimension1', 'radius2', 'texture2', 'perimeter2',\n",
       "       'area2', 'smoothnes2', 'compactness2', 'concavity2', 'concave_points2',\n",
       "       'symmetry2', 'fractal_dimension2', 'radius3', 'texture3', 'perimeter3',\n",
       "       'area3', 'smoothnes3', 'compactness3', 'concavity3', 'concave_points3',\n",
       "       'symmetry3', 'fractal_dimension3'],\n",
       "      dtype='object')"
      ]
     },
     "execution_count": 16,
     "metadata": {},
     "output_type": "execute_result"
    }
   ],
   "source": [
    "# display the columns to match up with the important features\n",
    "breast_cancer_DF.columns"
   ]
  },
  {
   "cell_type": "code",
   "execution_count": 17,
   "id": "97be2214-2bb9-48fb-8d03-2d45f0482d01",
   "metadata": {
    "id": "97be2214-2bb9-48fb-8d03-2d45f0482d01"
   },
   "outputs": [],
   "source": [
    "# make predictions for the y variable\n",
    "y_pred = clf.predict(X_test)"
   ]
  },
  {
   "cell_type": "code",
   "execution_count": 18,
   "id": "71f212ff-27f2-4369-b4bc-d24e5b145907",
   "metadata": {
    "colab": {
     "base_uri": "https://localhost:8080/"
    },
    "id": "71f212ff-27f2-4369-b4bc-d24e5b145907",
    "outputId": "1eed96f6-3c9b-45b0-dbb9-91b2279e3abf"
   },
   "outputs": [
    {
     "name": "stdout",
     "output_type": "stream",
     "text": [
      "[0 0 0 0 0 1 1 1 0 0 1 0 1 0 0 1 1 0 0 0 0 0 0 0 1 0 0 0 0 0 1 0 0 0 0 0 0\n",
      " 0 0 1 0 0 0 1 0 0 0 0 1 0 0 1 0 0 1 0 0 0 0 0 1 1 1 0 1 0 0 0 0 1 0 1 1 0\n",
      " 1 1 0 1 1 0 0 0 0 0 1 0 0 0 0 0 1 0 0 0 1 1 1 0 0 1 0 0 0 0 0 0 0 0 0 0 0\n",
      " 1 0 0 0 0 1 0 0 0 0 0 1 0 0 0 1 0 0 1 0 1 0 0 0 0 0 1 0 0 0 0 0]\n"
     ]
    }
   ],
   "source": [
    "# output the predictions\n",
    "print(y_pred)"
   ]
  },
  {
   "cell_type": "code",
   "execution_count": 19,
   "id": "7100df75-63eb-4fbf-b1d0-c90c6d1d249f",
   "metadata": {
    "colab": {
     "base_uri": "https://localhost:8080/"
    },
    "id": "7100df75-63eb-4fbf-b1d0-c90c6d1d249f",
    "outputId": "dc2c4d0d-8576-48cb-b046-f44cb788bd4d"
   },
   "outputs": [
    {
     "data": {
      "text/plain": [
       "array([[99,  0],\n",
       "       [ 6, 38]], dtype=int64)"
      ]
     },
     "execution_count": 19,
     "metadata": {},
     "output_type": "execute_result"
    }
   ],
   "source": [
    "# measure the performance of the classification model\n",
    "confusion_matrix(y_test,y_pred)"
   ]
  },
  {
   "cell_type": "code",
   "execution_count": 20,
   "id": "44015e3e-56ec-40e5-84b8-baea26e78dcf",
   "metadata": {
    "colab": {
     "base_uri": "https://localhost:8080/"
    },
    "id": "44015e3e-56ec-40e5-84b8-baea26e78dcf",
    "outputId": "a52ac5f1-1bae-4507-c421-50c3bd59f86d"
   },
   "outputs": [
    {
     "data": {
      "text/plain": [
       "95.8"
      ]
     },
     "execution_count": 20,
     "metadata": {},
     "output_type": "execute_result"
    }
   ],
   "source": [
    "# testing the accuracy of our classification model\n",
    "accuracy_clf = np.round(accuracy_score(y_test, y_pred)*100.0, 2)\n",
    "accuracy_clf"
   ]
  },
  {
   "cell_type": "code",
   "execution_count": 21,
   "id": "71011f7d-48e9-46ea-b179-d53739cf28dc",
   "metadata": {
    "colab": {
     "base_uri": "https://localhost:8080/"
    },
    "id": "71011f7d-48e9-46ea-b179-d53739cf28dc",
    "outputId": "ae34c489-f204-43cb-fecd-abf763599cf5"
   },
   "outputs": [
    {
     "data": {
      "text/plain": [
       "array([1.        , 0.93023256, 0.97674419, 0.97674419, 0.97674419,\n",
       "       0.88372093, 0.92857143, 0.97619048, 0.95238095, 0.92857143])"
      ]
     },
     "execution_count": 21,
     "metadata": {},
     "output_type": "execute_result"
    }
   ],
   "source": [
    "# cross checking with cross-validation\n",
    "# this will check the accuracy up the total amount of cv\n",
    "cross_val_score(clf,X_train,Y_train,cv = 10)"
   ]
  },
  {
   "cell_type": "code",
   "execution_count": 22,
   "id": "71aa63b3-06ad-4646-99b3-99d8f8595229",
   "metadata": {
    "colab": {
     "base_uri": "https://localhost:8080/"
    },
    "id": "71aa63b3-06ad-4646-99b3-99d8f8595229",
    "outputId": "a7b16a33-2539-4fe4-ba9b-a17768b09eb6"
   },
   "outputs": [
    {
     "name": "stdout",
     "output_type": "stream",
     "text": [
      "              precision    recall  f1-score   support\n",
      "\n",
      "           0       1.00      0.94      0.97       105\n",
      "           1       0.86      1.00      0.93        38\n",
      "\n",
      "    accuracy                           0.96       143\n",
      "   macro avg       0.93      0.97      0.95       143\n",
      "weighted avg       0.96      0.96      0.96       143\n",
      "\n"
     ]
    }
   ],
   "source": [
    "# classification report to give a summary of our model\n",
    "print(classification_report(y_pred,y_test))"
   ]
  },
  {
   "cell_type": "code",
   "execution_count": 23,
   "id": "dc709d39-0bd4-4a65-823a-30432db95c76",
   "metadata": {
    "colab": {
     "base_uri": "https://localhost:8080/",
     "height": 513
    },
    "id": "dc709d39-0bd4-4a65-823a-30432db95c76",
    "outputId": "3ac165fa-9c18-4ed6-cba5-130f227d75c0"
   },
   "outputs": [
    {
     "data": {
      "image/png": "[encoded data removed]",
      "text/plain": [
       "<Figure size 720x576 with 1 Axes>"
      ]
     },
     "metadata": {
      "needs_background": "light"
     },
     "output_type": "display_data"
    }
   ],
   "source": [
    "# create a graph showcasing which features are most relative in determining the diagnosis\n",
    "features = breast_cancer_DF.columns\n",
    "importance = clf.feature_importances_\n",
    "indicies = np.argsort(importance)\n",
    "\n",
    "# great graph labels\n",
    "plt.rc('figure', figsize=(10, 8)) # resizing the graph for better visualization - this will apply to all graphs\n",
    "plt.title(\"Important Features in the Random Forest Classification Model\")\n",
    "plt.xlabel(\"Relative Importance\")\n",
    "plt.barh(range(len(indicies)), importance[indicies],color = 'pink', align = 'center')\n",
    "plt.yticks(range(len(indicies)), [features[x] for x in indicies])\n",
    "\n",
    "plt.show()"
   ]
  },
  {
   "cell_type": "code",
   "execution_count": 24,
   "id": "zQ2GYyaaYEKl",
   "metadata": {
    "colab": {
     "base_uri": "https://localhost:8080/"
    },
    "id": "zQ2GYyaaYEKl",
    "outputId": "71edebde-69df-4bb0-dc30-352b4266d208"
   },
   "outputs": [
    {
     "data": {
      "text/html": [
       "<style>#sk-container-id-2 {color: black;background-color: white;}#sk-container-id-2 pre{padding: 0;}#sk-container-id-2 div.sk-toggleable {background-color: white;}#sk-container-id-2 label.sk-toggleable__label {cursor: pointer;display: block;width: 100%;margin-bottom: 0;padding: 0.3em;box-sizing: border-box;text-align: center;}#sk-container-id-2 label.sk-toggleable__label-arrow:before {content: \"▸\";float: left;margin-right: 0.25em;color: #696969;}#sk-container-id-2 label.sk-toggleable__label-arrow:hover:before {color: black;}#sk-container-id-2 div.sk-estimator:hover label.sk-toggleable__label-arrow:before {color: black;}#sk-container-id-2 div.sk-toggleable__content {max-height: 0;max-width: 0;overflow: hidden;text-align: left;background-color: #f0f8ff;}#sk-container-id-2 div.sk-toggleable__content pre {margin: 0.2em;color: black;border-radius: 0.25em;background-color: #f0f8ff;}#sk-container-id-2 input.sk-toggleable__control:checked~div.sk-toggleable__content {max-height: 200px;max-width: 100%;overflow: auto;}#sk-container-id-2 input.sk-toggleable__control:checked~label.sk-toggleable__label-arrow:before {content: \"▾\";}#sk-container-id-2 div.sk-estimator input.sk-toggleable__control:checked~label.sk-toggleable__label {background-color: #d4ebff;}#sk-container-id-2 div.sk-label input.sk-toggleable__control:checked~label.sk-toggleable__label {background-color: #d4ebff;}#sk-container-id-2 input.sk-hidden--visually {border: 0;clip: rect(1px 1px 1px 1px);clip: rect(1px, 1px, 1px, 1px);height: 1px;margin: -1px;overflow: hidden;padding: 0;position: absolute;width: 1px;}#sk-container-id-2 div.sk-estimator {font-family: monospace;background-color: #f0f8ff;border: 1px dotted black;border-radius: 0.25em;box-sizing: border-box;margin-bottom: 0.5em;}#sk-container-id-2 div.sk-estimator:hover {background-color: #d4ebff;}#sk-container-id-2 div.sk-parallel-item::after {content: \"\";width: 100%;border-bottom: 1px solid gray;flex-grow: 1;}#sk-container-id-2 div.sk-label:hover label.sk-toggleable__label {background-color: #d4ebff;}#sk-container-id-2 div.sk-serial::before {content: \"\";position: absolute;border-left: 1px solid gray;box-sizing: border-box;top: 0;bottom: 0;left: 50%;z-index: 0;}#sk-container-id-2 div.sk-serial {display: flex;flex-direction: column;align-items: center;background-color: white;padding-right: 0.2em;padding-left: 0.2em;position: relative;}#sk-container-id-2 div.sk-item {position: relative;z-index: 1;}#sk-container-id-2 div.sk-parallel {display: flex;align-items: stretch;justify-content: center;background-color: white;position: relative;}#sk-container-id-2 div.sk-item::before, #sk-container-id-2 div.sk-parallel-item::before {content: \"\";position: absolute;border-left: 1px solid gray;box-sizing: border-box;top: 0;bottom: 0;left: 50%;z-index: -1;}#sk-container-id-2 div.sk-parallel-item {display: flex;flex-direction: column;z-index: 1;position: relative;background-color: white;}#sk-container-id-2 div.sk-parallel-item:first-child::after {align-self: flex-end;width: 50%;}#sk-container-id-2 div.sk-parallel-item:last-child::after {align-self: flex-start;width: 50%;}#sk-container-id-2 div.sk-parallel-item:only-child::after {width: 0;}#sk-container-id-2 div.sk-dashed-wrapped {border: 1px dashed gray;margin: 0 0.4em 0.5em 0.4em;box-sizing: border-box;padding-bottom: 0.4em;background-color: white;}#sk-container-id-2 div.sk-label label {font-family: monospace;font-weight: bold;display: inline-block;line-height: 1.2em;}#sk-container-id-2 div.sk-label-container {text-align: center;}#sk-container-id-2 div.sk-container {/* jupyter's `normalize.less` sets `[hidden] { display: none; }` but bootstrap.min.css set `[hidden] { display: none !important; }` so we also need the `!important` here to be able to override the default hidden behavior on the sphinx rendered scikit-learn.org. See: https://github.com/scikit-learn/scikit-learn/issues/21755 */display: inline-block !important;position: relative;}#sk-container-id-2 div.sk-text-repr-fallback {display: none;}</style><div id=\"sk-container-id-2\" class=\"sk-top-container\"><div class=\"sk-text-repr-fallback\"><pre>XGBClassifier(base_score=None, booster=None, callbacks=None,\n",
       "              colsample_bylevel=None, colsample_bynode=None,\n",
       "              colsample_bytree=None, early_stopping_rounds=None,\n",
       "              enable_categorical=False, eval_metric=None, feature_types=None,\n",
       "              gamma=None, gpu_id=None, grow_policy=None, importance_type=None,\n",
       "              interaction_constraints=None, learning_rate=None, max_bin=None,\n",
       "              max_cat_threshold=None, max_cat_to_onehot=None,\n",
       "              max_delta_step=None, max_depth=None, max_leaves=None,\n",
       "              min_child_weight=None, missing=nan, monotone_constraints=None,\n",
       "              n_estimators=100, n_jobs=None, num_parallel_tree=None,\n",
       "              predictor=None, random_state=None, ...)</pre><b>In a Jupyter environment, please rerun this cell to show the HTML representation or trust the notebook. <br />On GitHub, the HTML representation is unable to render, please try loading this page with nbviewer.org.</b></div><div class=\"sk-container\" hidden><div class=\"sk-item\"><div class=\"sk-estimator sk-toggleable\"><input class=\"sk-toggleable__control sk-hidden--visually\" id=\"sk-estimator-id-2\" type=\"checkbox\" checked><label for=\"sk-estimator-id-2\" class=\"sk-toggleable__label sk-toggleable__label-arrow\">XGBClassifier</label><div class=\"sk-toggleable__content\"><pre>XGBClassifier(base_score=None, booster=None, callbacks=None,\n",
       "              colsample_bylevel=None, colsample_bynode=None,\n",
       "              colsample_bytree=None, early_stopping_rounds=None,\n",
       "              enable_categorical=False, eval_metric=None, feature_types=None,\n",
       "              gamma=None, gpu_id=None, grow_policy=None, importance_type=None,\n",
       "              interaction_constraints=None, learning_rate=None, max_bin=None,\n",
       "              max_cat_threshold=None, max_cat_to_onehot=None,\n",
       "              max_delta_step=None, max_depth=None, max_leaves=None,\n",
       "              min_child_weight=None, missing=nan, monotone_constraints=None,\n",
       "              n_estimators=100, n_jobs=None, num_parallel_tree=None,\n",
       "              predictor=None, random_state=None, ...)</pre></div></div></div></div></div>"
      ],
      "text/plain": [
       "XGBClassifier(base_score=None, booster=None, callbacks=None,\n",
       "              colsample_bylevel=None, colsample_bynode=None,\n",
       "              colsample_bytree=None, early_stopping_rounds=None,\n",
       "              enable_categorical=False, eval_metric=None, feature_types=None,\n",
       "              gamma=None, gpu_id=None, grow_policy=None, importance_type=None,\n",
       "              interaction_constraints=None, learning_rate=None, max_bin=None,\n",
       "              max_cat_threshold=None, max_cat_to_onehot=None,\n",
       "              max_delta_step=None, max_depth=None, max_leaves=None,\n",
       "              min_child_weight=None, missing=nan, monotone_constraints=None,\n",
       "              n_estimators=100, n_jobs=None, num_parallel_tree=None,\n",
       "              predictor=None, random_state=None, ...)"
      ]
     },
     "execution_count": 24,
     "metadata": {},
     "output_type": "execute_result"
    }
   ],
   "source": [
    "# Fitting XGBoost Classifier model\n",
    "XGB = XGBClassifier()\n",
    "XGB.fit(X_train, Y_train)"
   ]
  },
  {
   "cell_type": "code",
   "execution_count": 25,
   "id": "m9IGbhvmZfP2",
   "metadata": {
    "colab": {
     "base_uri": "https://localhost:8080/"
    },
    "id": "m9IGbhvmZfP2",
    "outputId": "9c02553c-a4f9-4dd7-e91b-bb2da57bf8e0"
   },
   "outputs": [
    {
     "data": {
      "text/plain": [
       "array([0.01291502, 0.02221479, 0.00334115, 0.1753301 , 0.00995358,\n",
       "       0.01057219, 0.00878057, 0.03885   , 0.00173686, 0.        ,\n",
       "       0.01034152, 0.        , 0.        , 0.02135361, 0.01404253,\n",
       "       0.00686897, 0.00259415, 0.0037085 , 0.00279399, 0.00720163,\n",
       "       0.        , 0.01517035, 0.20919164, 0.01834159, 0.01000057,\n",
       "       0.00553103, 0.02473211, 0.34525022, 0.00225577, 0.01692757],\n",
       "      dtype=float32)"
      ]
     },
     "execution_count": 25,
     "metadata": {},
     "output_type": "execute_result"
    }
   ],
   "source": [
    "# computed as the mean and standard deviation of accumulation of the impurity decrease within each tree\n",
    "XGB.feature_importances_"
   ]
  },
  {
   "cell_type": "code",
   "execution_count": 26,
   "id": "AllN-lQfZIYG",
   "metadata": {
    "colab": {
     "base_uri": "https://localhost:8080/"
    },
    "id": "AllN-lQfZIYG",
    "outputId": "23d383aa-8bf8-46e6-9e5a-7aa8e1051e2f"
   },
   "outputs": [
    {
     "name": "stdout",
     "output_type": "stream",
     "text": [
      "[0 0 0 0 0 1 1 1 0 0 1 0 1 0 0 1 1 0 0 0 1 0 0 0 1 0 0 0 0 0 1 0 0 0 0 0 0\n",
      " 0 0 1 0 0 0 1 0 0 0 0 1 0 0 1 0 0 1 0 0 0 0 0 1 1 1 0 1 0 0 0 0 1 0 1 1 0\n",
      " 1 1 1 1 1 0 0 0 0 0 1 0 0 0 0 0 1 0 0 0 1 1 1 0 0 1 0 0 0 0 0 0 0 0 0 0 1\n",
      " 1 0 0 0 0 1 0 0 0 0 0 1 0 0 0 1 0 0 1 0 1 0 0 0 0 0 1 0 0 0 0 0]\n"
     ]
    }
   ],
   "source": [
    "# make predictions for test data\n",
    "y_pred = XGB.predict(X_test)\n",
    "\n",
    "# output the predictions\n",
    "print(y_pred)"
   ]
  },
  {
   "cell_type": "code",
   "execution_count": 27,
   "id": "E9nPd8QgZOGS",
   "metadata": {
    "colab": {
     "base_uri": "https://localhost:8080/"
    },
    "id": "E9nPd8QgZOGS",
    "outputId": "5604064b-6a7d-4203-f8d3-3791bb07daa0"
   },
   "outputs": [
    {
     "data": {
      "text/plain": [
       "97.9"
      ]
     },
     "execution_count": 27,
     "metadata": {},
     "output_type": "execute_result"
    }
   ],
   "source": [
    "# evaluate predictions\n",
    "accuracy_XGB = np.round(accuracy_score(y_test, y_pred)*100.0, 2)\n",
    "accuracy_XGB"
   ]
  },
  {
   "cell_type": "code",
   "execution_count": 28,
   "id": "zGiQZqJ0ZQtl",
   "metadata": {
    "colab": {
     "base_uri": "https://localhost:8080/"
    },
    "id": "zGiQZqJ0ZQtl",
    "outputId": "ca69ea22-ef36-4696-ec50-522719aed3e7"
   },
   "outputs": [
    {
     "data": {
      "text/plain": [
       "array([[99,  0],\n",
       "       [ 3, 41]], dtype=int64)"
      ]
     },
     "execution_count": 28,
     "metadata": {},
     "output_type": "execute_result"
    }
   ],
   "source": [
    "# measure the performance of the classification model\n",
    "confusion_matrix(y_test,y_pred)"
   ]
  },
  {
   "cell_type": "code",
   "execution_count": 29,
   "id": "Gsp3J98XZ_X9",
   "metadata": {
    "colab": {
     "base_uri": "https://localhost:8080/"
    },
    "id": "Gsp3J98XZ_X9",
    "outputId": "eaba1863-e988-4540-d141-4ff72273c9aa"
   },
   "outputs": [
    {
     "data": {
      "text/plain": [
       "array([1.        , 0.95348837, 0.97674419, 0.95348837, 0.95348837,\n",
       "       0.90697674, 0.95238095, 0.95238095, 0.95238095, 0.95238095])"
      ]
     },
     "execution_count": 29,
     "metadata": {},
     "output_type": "execute_result"
    }
   ],
   "source": [
    "# cross checking with cross-validation\n",
    "# this will check the accuracy up the total amount of cv\n",
    "cross_val_score(XGB,X_train,Y_train,cv = 10)"
   ]
  },
  {
   "cell_type": "code",
   "execution_count": 30,
   "id": "yvHRNHdAZ_9q",
   "metadata": {
    "colab": {
     "base_uri": "https://localhost:8080/"
    },
    "id": "yvHRNHdAZ_9q",
    "outputId": "4ab12207-febb-4bda-dcaf-25b1ac524427"
   },
   "outputs": [
    {
     "name": "stdout",
     "output_type": "stream",
     "text": [
      "              precision    recall  f1-score   support\n",
      "\n",
      "           0       1.00      0.97      0.99       102\n",
      "           1       0.93      1.00      0.96        41\n",
      "\n",
      "    accuracy                           0.98       143\n",
      "   macro avg       0.97      0.99      0.97       143\n",
      "weighted avg       0.98      0.98      0.98       143\n",
      "\n"
     ]
    }
   ],
   "source": [
    "# classification report to give a summary of our model\n",
    "print(classification_report(y_pred,y_test))"
   ]
  },
  {
   "cell_type": "code",
   "execution_count": 31,
   "id": "UXVpvahpaGOX",
   "metadata": {
    "colab": {
     "base_uri": "https://localhost:8080/",
     "height": 513
    },
    "id": "UXVpvahpaGOX",
    "outputId": "61085948-f781-4383-9516-d3fbedf7dbb7"
   },
   "outputs": [
    {
     "data": {
      "image/png": "[encoded data removed]",
      "text/plain": [
       "<Figure size 720x576 with 1 Axes>"
      ]
     },
     "metadata": {
      "needs_background": "light"
     },
     "output_type": "display_data"
    }
   ],
   "source": [
    "# create a graph showcasing which features are most relative in determining the diagnosis\n",
    "features = breast_cancer_DF.columns\n",
    "importance = XGB.feature_importances_\n",
    "indicies = np.argsort(importance)\n",
    "\n",
    "# great graph labels\n",
    "plt.rc('figure', figsize=(10, 8)) # resizing the graph for better visualization - this will apply to all graphs\n",
    "plt.title(\"Important Features in the XGBoost Classification Model\")\n",
    "plt.xlabel(\"Relative Importance\")\n",
    "plt.barh(range(len(indicies)), importance[indicies],color = 'red', align = 'center')\n",
    "plt.yticks(range(len(indicies)), [features[x] for x in indicies])\n",
    "\n",
    "plt.show()"
   ]
  },
  {
   "cell_type": "code",
   "execution_count": 32,
   "id": "Dhs9y1NLedK5",
   "metadata": {
    "colab": {
     "base_uri": "https://localhost:8080/"
    },
    "id": "Dhs9y1NLedK5",
    "outputId": "dd0f52ac-c541-49c4-c8d7-5842dc6202f4"
   },
   "outputs": [
    {
     "data": {
      "text/html": [
       "<style>#sk-container-id-3 {color: black;background-color: white;}#sk-container-id-3 pre{padding: 0;}#sk-container-id-3 div.sk-toggleable {background-color: white;}#sk-container-id-3 label.sk-toggleable__label {cursor: pointer;display: block;width: 100%;margin-bottom: 0;padding: 0.3em;box-sizing: border-box;text-align: center;}#sk-container-id-3 label.sk-toggleable__label-arrow:before {content: \"▸\";float: left;margin-right: 0.25em;color: #696969;}#sk-container-id-3 label.sk-toggleable__label-arrow:hover:before {color: black;}#sk-container-id-3 div.sk-estimator:hover label.sk-toggleable__label-arrow:before {color: black;}#sk-container-id-3 div.sk-toggleable__content {max-height: 0;max-width: 0;overflow: hidden;text-align: left;background-color: #f0f8ff;}#sk-container-id-3 div.sk-toggleable__content pre {margin: 0.2em;color: black;border-radius: 0.25em;background-color: #f0f8ff;}#sk-container-id-3 input.sk-toggleable__control:checked~div.sk-toggleable__content {max-height: 200px;max-width: 100%;overflow: auto;}#sk-container-id-3 input.sk-toggleable__control:checked~label.sk-toggleable__label-arrow:before {content: \"▾\";}#sk-container-id-3 div.sk-estimator input.sk-toggleable__control:checked~label.sk-toggleable__label {background-color: #d4ebff;}#sk-container-id-3 div.sk-label input.sk-toggleable__control:checked~label.sk-toggleable__label {background-color: #d4ebff;}#sk-container-id-3 input.sk-hidden--visually {border: 0;clip: rect(1px 1px 1px 1px);clip: rect(1px, 1px, 1px, 1px);height: 1px;margin: -1px;overflow: hidden;padding: 0;position: absolute;width: 1px;}#sk-container-id-3 div.sk-estimator {font-family: monospace;background-color: #f0f8ff;border: 1px dotted black;border-radius: 0.25em;box-sizing: border-box;margin-bottom: 0.5em;}#sk-container-id-3 div.sk-estimator:hover {background-color: #d4ebff;}#sk-container-id-3 div.sk-parallel-item::after {content: \"\";width: 100%;border-bottom: 1px solid gray;flex-grow: 1;}#sk-container-id-3 div.sk-label:hover label.sk-toggleable__label {background-color: #d4ebff;}#sk-container-id-3 div.sk-serial::before {content: \"\";position: absolute;border-left: 1px solid gray;box-sizing: border-box;top: 0;bottom: 0;left: 50%;z-index: 0;}#sk-container-id-3 div.sk-serial {display: flex;flex-direction: column;align-items: center;background-color: white;padding-right: 0.2em;padding-left: 0.2em;position: relative;}#sk-container-id-3 div.sk-item {position: relative;z-index: 1;}#sk-container-id-3 div.sk-parallel {display: flex;align-items: stretch;justify-content: center;background-color: white;position: relative;}#sk-container-id-3 div.sk-item::before, #sk-container-id-3 div.sk-parallel-item::before {content: \"\";position: absolute;border-left: 1px solid gray;box-sizing: border-box;top: 0;bottom: 0;left: 50%;z-index: -1;}#sk-container-id-3 div.sk-parallel-item {display: flex;flex-direction: column;z-index: 1;position: relative;background-color: white;}#sk-container-id-3 div.sk-parallel-item:first-child::after {align-self: flex-end;width: 50%;}#sk-container-id-3 div.sk-parallel-item:last-child::after {align-self: flex-start;width: 50%;}#sk-container-id-3 div.sk-parallel-item:only-child::after {width: 0;}#sk-container-id-3 div.sk-dashed-wrapped {border: 1px dashed gray;margin: 0 0.4em 0.5em 0.4em;box-sizing: border-box;padding-bottom: 0.4em;background-color: white;}#sk-container-id-3 div.sk-label label {font-family: monospace;font-weight: bold;display: inline-block;line-height: 1.2em;}#sk-container-id-3 div.sk-label-container {text-align: center;}#sk-container-id-3 div.sk-container {/* jupyter's `normalize.less` sets `[hidden] { display: none; }` but bootstrap.min.css set `[hidden] { display: none !important; }` so we also need the `!important` here to be able to override the default hidden behavior on the sphinx rendered scikit-learn.org. See: https://github.com/scikit-learn/scikit-learn/issues/21755 */display: inline-block !important;position: relative;}#sk-container-id-3 div.sk-text-repr-fallback {display: none;}</style><div id=\"sk-container-id-3\" class=\"sk-top-container\"><div class=\"sk-text-repr-fallback\"><pre>GradientBoostingClassifier()</pre><b>In a Jupyter environment, please rerun this cell to show the HTML representation or trust the notebook. <br />On GitHub, the HTML representation is unable to render, please try loading this page with nbviewer.org.</b></div><div class=\"sk-container\" hidden><div class=\"sk-item\"><div class=\"sk-estimator sk-toggleable\"><input class=\"sk-toggleable__control sk-hidden--visually\" id=\"sk-estimator-id-3\" type=\"checkbox\" checked><label for=\"sk-estimator-id-3\" class=\"sk-toggleable__label sk-toggleable__label-arrow\">GradientBoostingClassifier</label><div class=\"sk-toggleable__content\"><pre>GradientBoostingClassifier()</pre></div></div></div></div></div>"
      ],
      "text/plain": [
       "GradientBoostingClassifier()"
      ]
     },
     "execution_count": 32,
     "metadata": {},
     "output_type": "execute_result"
    }
   ],
   "source": [
    "# fit the GBM model on the whole dataset\n",
    "GBM = GradientBoostingClassifier()\n",
    "GBM.fit(X, Y)"
   ]
  },
  {
   "cell_type": "code",
   "execution_count": 33,
   "id": "rAp6kgydfBpZ",
   "metadata": {
    "colab": {
     "base_uri": "https://localhost:8080/"
    },
    "id": "rAp6kgydfBpZ",
    "outputId": "8a7992c8-0768-411f-a4fa-34a27c2a667c"
   },
   "outputs": [
    {
     "data": {
      "text/plain": [
       "array([5.54342669e-05, 2.71986690e-02, 6.15404805e-04, 1.12367305e-03,\n",
       "       1.92080884e-05, 1.78378426e-03, 9.49938419e-05, 1.34255214e-01,\n",
       "       1.77917889e-03, 3.56864728e-05, 5.47021538e-03, 4.01523251e-03,\n",
       "       3.69734291e-04, 8.29813804e-03, 9.26084343e-04, 2.75836237e-03,\n",
       "       2.28415809e-03, 4.55858593e-03, 1.46343305e-03, 1.03757393e-03,\n",
       "       4.41475736e-01, 3.66261204e-02, 1.51831251e-01, 2.87425066e-02,\n",
       "       7.52617985e-03, 1.04200291e-03, 1.17389466e-02, 1.22409291e-01,\n",
       "       1.40368831e-04, 3.24832079e-04])"
      ]
     },
     "execution_count": 33,
     "metadata": {},
     "output_type": "execute_result"
    }
   ],
   "source": [
    "# computed as the mean and standard deviation of accumulation of the impurity decrease within each tree\n",
    "GBM.feature_importances_"
   ]
  },
  {
   "cell_type": "code",
   "execution_count": 34,
   "id": "MiADk0q3fIb_",
   "metadata": {
    "colab": {
     "base_uri": "https://localhost:8080/"
    },
    "id": "MiADk0q3fIb_",
    "outputId": "ffd3ba73-5eca-4a9d-fc35-5b2642b9577a"
   },
   "outputs": [
    {
     "name": "stdout",
     "output_type": "stream",
     "text": [
      "[0 0 0 0 0 1 1 1 0 0 1 0 1 1 0 1 1 0 0 0 1 0 0 0 1 0 0 0 0 0 1 0 0 0 0 0 0\n",
      " 0 0 1 0 0 0 1 0 0 0 0 1 0 0 1 1 0 1 0 0 0 0 0 1 1 1 0 1 0 0 0 0 1 0 1 1 0\n",
      " 1 1 1 1 1 0 0 0 0 0 1 0 0 0 0 0 1 0 0 0 1 1 1 0 0 1 0 0 1 0 0 0 0 0 0 0 1\n",
      " 1 0 0 0 0 1 0 0 0 0 0 1 0 0 0 1 0 0 1 0 1 0 0 0 0 0 1 0 0 0 0 0]\n"
     ]
    }
   ],
   "source": [
    "# make predictions for test data\n",
    "y_pred = GBM.predict(X_test)\n",
    "\n",
    "# output the predictions\n",
    "print(y_pred)"
   ]
  },
  {
   "cell_type": "code",
   "execution_count": 35,
   "id": "qCKw3UpsfONm",
   "metadata": {
    "colab": {
     "base_uri": "https://localhost:8080/"
    },
    "id": "qCKw3UpsfONm",
    "outputId": "05a37bd7-4e07-407e-bcd2-bc1893eafea4"
   },
   "outputs": [
    {
     "data": {
      "text/plain": [
       "100.0"
      ]
     },
     "execution_count": 35,
     "metadata": {},
     "output_type": "execute_result"
    }
   ],
   "source": [
    "# evaluate predictions\n",
    "accuracy_GBM = np.round(accuracy_score(y_test, y_pred)*100.0, 2)\n",
    "accuracy_GBM"
   ]
  },
  {
   "cell_type": "code",
   "execution_count": 36,
   "id": "DrHlht4YfStS",
   "metadata": {
    "colab": {
     "base_uri": "https://localhost:8080/"
    },
    "id": "DrHlht4YfStS",
    "outputId": "c6f5aac0-5c2e-4fcf-b2a5-4ff16c12b1fc"
   },
   "outputs": [
    {
     "data": {
      "text/plain": [
       "array([[99,  0],\n",
       "       [ 0, 44]], dtype=int64)"
      ]
     },
     "execution_count": 36,
     "metadata": {},
     "output_type": "execute_result"
    }
   ],
   "source": [
    "# measure the performance of the classification model\n",
    "confusion_matrix(y_test,y_pred)"
   ]
  },
  {
   "cell_type": "code",
   "execution_count": 37,
   "id": "a1dM8eoFfZIh",
   "metadata": {
    "colab": {
     "base_uri": "https://localhost:8080/"
    },
    "id": "a1dM8eoFfZIh",
    "outputId": "9e9a6a56-7d03-4c2c-cbdf-ca24fadcb87a"
   },
   "outputs": [
    {
     "data": {
      "text/plain": [
       "array([0.97674419, 0.95348837, 0.95348837, 0.95348837, 0.90697674,\n",
       "       0.93023256, 0.92857143, 0.97619048, 0.97619048, 0.9047619 ])"
      ]
     },
     "execution_count": 37,
     "metadata": {},
     "output_type": "execute_result"
    }
   ],
   "source": [
    "# cross checking with cross-validation\n",
    "# this will check the accuracy up the total amount of cv\n",
    "cross_val_score(GBM,X_train,Y_train,cv = 10)"
   ]
  },
  {
   "cell_type": "code",
   "execution_count": 38,
   "id": "rlXwr6YWfZpy",
   "metadata": {
    "colab": {
     "base_uri": "https://localhost:8080/"
    },
    "id": "rlXwr6YWfZpy",
    "outputId": "1bfa8262-aeb3-4855-cb9c-d4562aa13918"
   },
   "outputs": [
    {
     "name": "stdout",
     "output_type": "stream",
     "text": [
      "              precision    recall  f1-score   support\n",
      "\n",
      "           0       1.00      1.00      1.00        99\n",
      "           1       1.00      1.00      1.00        44\n",
      "\n",
      "    accuracy                           1.00       143\n",
      "   macro avg       1.00      1.00      1.00       143\n",
      "weighted avg       1.00      1.00      1.00       143\n",
      "\n"
     ]
    }
   ],
   "source": [
    "# classification report to give a summary of our model\n",
    "print(classification_report(y_pred,y_test))"
   ]
  },
  {
   "cell_type": "code",
   "execution_count": 39,
   "id": "frx7SLgXfhAt",
   "metadata": {
    "colab": {
     "base_uri": "https://localhost:8080/",
     "height": 513
    },
    "id": "frx7SLgXfhAt",
    "outputId": "4a7d7937-afaa-40e2-cbe3-00c6e57eef18"
   },
   "outputs": [
    {
     "data": {
      "image/png": "[encoded data removed]",
      "text/plain": [
       "<Figure size 720x576 with 1 Axes>"
      ]
     },
     "metadata": {
      "needs_background": "light"
     },
     "output_type": "display_data"
    }
   ],
   "source": [
    "# create a graph showcasing which features are most relative in determining the diagnosis\n",
    "features = breast_cancer_DF.columns\n",
    "importance = GBM.feature_importances_\n",
    "indicies = np.argsort(importance)\n",
    "\n",
    "# great graph labels\n",
    "plt.rc('figure', figsize=(10, 8)) # resizing the graph for better visualization - this will apply to all graphs\n",
    "plt.title(\"Important Features in the Gradient Boosting Classification Model\")\n",
    "plt.xlabel(\"Relative Importance\")\n",
    "plt.barh(range(len(indicies)), importance[indicies],color = 'purple', align = 'center')\n",
    "plt.yticks(range(len(indicies)), [features[x] for x in indicies])\n",
    "\n",
    "plt.show()"
   ]
  },
  {
   "cell_type": "markdown",
   "id": "A97h3y-6pnwX",
   "metadata": {
    "id": "A97h3y-6pnwX"
   },
   "source": [
    "# Analysis and Conclusion"
   ]
  },
  {
   "cell_type": "code",
   "execution_count": 40,
   "id": "25_a02oqeYz6",
   "metadata": {
    "id": "25_a02oqeYz6"
   },
   "outputs": [],
   "source": [
    "# split the data into train and test sets\n",
    "X_train_cop, X_test_cop, Y_train_cop, y_test_cop = train_test_split(X, Y, random_state=99)"
   ]
  },
  {
   "cell_type": "code",
   "execution_count": 41,
   "id": "0J2FsrrJXsZZ",
   "metadata": {
    "colab": {
     "base_uri": "https://localhost:8080/"
    },
    "id": "0J2FsrrJXsZZ",
    "outputId": "d73b097a-1e05-4df4-d36c-7a3256072099"
   },
   "outputs": [
    {
     "data": {
      "text/plain": [
       "95.8"
      ]
     },
     "execution_count": 41,
     "metadata": {},
     "output_type": "execute_result"
    }
   ],
   "source": [
    "# Random Forest\n",
    "model = clf.fit(X_train_cop, Y_train_cop)\n",
    "pred = clf.predict(X_test_cop)\n",
    "accuracy_cop_clf = np.round(accuracy_score(y_test_cop, pred)*100.0, 2)\n",
    "accuracy_cop_clf"
   ]
  },
  {
   "cell_type": "code",
   "execution_count": 42,
   "id": "-MOMrgPwYJ7V",
   "metadata": {
    "colab": {
     "base_uri": "https://localhost:8080/"
    },
    "id": "-MOMrgPwYJ7V",
    "outputId": "7de56c8f-3cee-48a2-d523-30fa0653a970"
   },
   "outputs": [
    {
     "data": {
      "text/plain": [
       "97.9"
      ]
     },
     "execution_count": 42,
     "metadata": {},
     "output_type": "execute_result"
    }
   ],
   "source": [
    "# XGBoost\n",
    "model = XGB.fit(X_train_cop, Y_train_cop)\n",
    "pred = XGB.predict(X_test_cop)\n",
    "accuracy_cop_XGB = np.round(accuracy_score(y_test, pred)*100.0, 2)\n",
    "accuracy_cop_XGB"
   ]
  },
  {
   "cell_type": "code",
   "execution_count": 43,
   "id": "eAWBt7jxYL6q",
   "metadata": {
    "colab": {
     "base_uri": "https://localhost:8080/"
    },
    "id": "eAWBt7jxYL6q",
    "outputId": "c60ccf80-d800-4942-a738-b0ac03386bdb"
   },
   "outputs": [
    {
     "data": {
      "text/plain": [
       "100.0"
      ]
     },
     "execution_count": 43,
     "metadata": {},
     "output_type": "execute_result"
    }
   ],
   "source": [
    "# GBM\n",
    "model = GBM.fit(X_train_cop, Y_train_cop)\n",
    "pred = GBM.predict(X_test_cop)\n",
    "accuracy_cop_GBM = np.round(accuracy_score(y_test, y_pred)*100.0, 2)\n",
    "accuracy_cop_GBM"
   ]
  },
  {
   "cell_type": "code",
   "execution_count": 44,
   "id": "BkfMQwxKlTtH",
   "metadata": {
    "colab": {
     "base_uri": "https://localhost:8080/",
     "height": 144
    },
    "id": "BkfMQwxKlTtH",
    "outputId": "4ba0cf73-1b9e-44b5-9774-e4f323b88eed"
   },
   "outputs": [
    {
     "data": {
      "text/html": [
       "<div>\n",
       "<style scoped>\n",
       "    .dataframe tbody tr th:only-of-type {\n",
       "        vertical-align: middle;\n",
       "    }\n",
       "\n",
       "    .dataframe tbody tr th {\n",
       "        vertical-align: top;\n",
       "    }\n",
       "\n",
       "    .dataframe thead th {\n",
       "        text-align: right;\n",
       "    }\n",
       "</style>\n",
       "<table border=\"1\" class=\"dataframe\">\n",
       "  <thead>\n",
       "    <tr style=\"text-align: right;\">\n",
       "      <th></th>\n",
       "      <th>Classifier</th>\n",
       "      <th>Accuracy</th>\n",
       "    </tr>\n",
       "  </thead>\n",
       "  <tbody>\n",
       "    <tr>\n",
       "      <th>0</th>\n",
       "      <td>RandomForestClassifier</td>\n",
       "      <td>95.8</td>\n",
       "    </tr>\n",
       "    <tr>\n",
       "      <th>1</th>\n",
       "      <td>XGBClassifier</td>\n",
       "      <td>97.9</td>\n",
       "    </tr>\n",
       "    <tr>\n",
       "      <th>2</th>\n",
       "      <td>GradientBoostingClassifier</td>\n",
       "      <td>100.0</td>\n",
       "    </tr>\n",
       "  </tbody>\n",
       "</table>\n",
       "</div>"
      ],
      "text/plain": [
       "                   Classifier  Accuracy\n",
       "0      RandomForestClassifier      95.8\n",
       "1               XGBClassifier      97.9\n",
       "2  GradientBoostingClassifier     100.0"
      ]
     },
     "execution_count": 44,
     "metadata": {},
     "output_type": "execute_result"
    }
   ],
   "source": [
    "# comparing the three model accuracies\n",
    "# setting up our results dataframe\n",
    "data = {'Classifier': ['RandomForestClassifier', 'XGBClassifier', 'GradientBoostingClassifier'],\n",
    "        'Accuracy': [accuracy_clf, accuracy_XGB, accuracy_GBM]}\n",
    "\n",
    "results = pd.DataFrame(data)\n",
    "results"
   ]
  },
  {
   "cell_type": "code",
   "execution_count": 45,
   "id": "5wIVC7GZo16c",
   "metadata": {
    "colab": {
     "base_uri": "https://localhost:8080/",
     "height": 592
    },
    "id": "5wIVC7GZo16c",
    "outputId": "6d03c453-f926-470f-aaf5-cfa92d3012f9"
   },
   "outputs": [
    {
     "data": {
      "image/png": "[encoded data removed]",
      "text/plain": [
       "<Figure size 1440x720 with 1 Axes>"
      ]
     },
     "metadata": {
      "needs_background": "light"
     },
     "output_type": "display_data"
    }
   ],
   "source": [
    "# creating the bar plot\n",
    "fig = plt.figure(figsize = (20, 10))\n",
    "x = results['Classifier']\n",
    "y = results['Accuracy']\n",
    "title_font = {'weight': 'bold', 'size': 15}\n",
    "plt.barh(x, y, color = 'maroon')\n",
    " \n",
    "for index, value in enumerate(y):\n",
    "    plt.text(value, index, str(value), **title_font)\n",
    " \n",
    "plt.show()"
   ]
  },
  {
   "cell_type": "markdown",
   "id": "AcSTvZik7n1O",
   "metadata": {
    "id": "AcSTvZik7n1O"
   },
   "source": [
    "The gradient boosting classifier model is the most accurate classifier model of the three."
   ]
  }
 ],
 "metadata": {
  "colab": {
   "provenance": []
  },
  "kernelspec": {
   "display_name": "Python 3",
   "language": "python",
   "name": "python3"
  },
  "language_info": {
   "codemirror_mode": {
    "name": "ipython",
    "version": 3
   },
   "file_extension": ".py",
   "mimetype": "text/x-python",
   "name": "python",
   "nbconvert_exporter": "python",
   "pygments_lexer": "ipython3",
   "version": "3.9.7"
  },
  "vscode": {
   "interpreter": {
    "hash": "df230b74d5aefbbba919738cbe3b981dae13583060fda5e0e26e89ec3779be9d"
   }
  }
 },
 "nbformat": 4,
 "nbformat_minor": 5
}
